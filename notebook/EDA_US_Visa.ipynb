{
 "cells": [
  {
   "cell_type": "markdown",
   "id": "969460b2",
   "metadata": {},
   "source": [
    "# US Visa Prediction Project\n",
    "### Life cycle of Machine learning Project\n",
    "\n",
    "* Understanding the Problem Statement\n",
    "* Data Collection\n",
    "* Exploratory data analysis\n",
    "* Data Cleaning\n",
    "* Data Pre-Processing\n",
    "* Model Training\n",
    "* Choose best model\n",
    "\n",
    "## About\n",
    "The Immigration and Nationality Act (INA) of the US permits foreign workers to come to the United States to work on either a temporary or permanent basis. The act also protects US workers against adverse impacts on working place and maintain requirements when they hire foreign workers to fill workforce shortages. The immigration programs are administered by the Office of Foreign Labor Certification (OFLC).\n",
    "\n",
    "# 1) Problem statement.\n",
    "* OFLC gives job certification applications for employers seeking to bring foreign workers into the United States and grants certifications.\n",
    "* As In last year the count of employees were huge so OFLC needs Machine learning models to shortlist visa applicants based on their previous data.\n",
    "\n",
    "### In this project we are going to use the data given to build a Classification model:\n",
    "\n",
    "* This model is to check if Visa get approved or not based on the given dataset.\n",
    "* This can be used to Recommend a suitable profile for the applicants for whom the visa should be certified or denied based on the certain criteria which influences the decision.\n",
    "\n",
    "# 2) Data Collection.\n",
    "* The Dataset is part of Office of Foreign Labor Certification (OFLC)\n",
    "* The data consists of 25480 Rows and 12 Columns\n",
    "https://www.kaggle.com/datasets/moro23/easyvisa-dataset\n",
    "\n",
    "## 2.1 Import Data and Required Packages\n",
    "#### Importing Pandas, Numpy, Matplotlib, Seaborn and Warings Library."
   ]
  }
 ],
 "metadata": {
  "language_info": {
   "name": "python"
  }
 },
 "nbformat": 4,
 "nbformat_minor": 5
}
